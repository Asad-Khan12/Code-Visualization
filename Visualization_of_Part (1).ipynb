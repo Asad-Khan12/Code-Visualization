{
  "nbformat": 4,
  "nbformat_minor": 0,
  "metadata": {
    "colab": {
      "provenance": []
    },
    "kernelspec": {
      "name": "python3",
      "display_name": "Python 3"
    },
    "language_info": {
      "name": "python"
    }
  },
  "cells": [
    {
      "cell_type": "code",
      "execution_count": null,
      "metadata": {
        "id": "qZy25b94OLri"
      },
      "outputs": [],
      "source": [
        "import pandas as pd\n",
        "import seaborn as sns\n",
        "import matplotlib.pyplot as plt\n",
        "\n",
        "def load_data():\n",
        "    \"\"\"Loads the UK Road Safety dataset from seaborn and returns a pandas DataFrame.\"\"\"\n",
        "    return sns.load_dataset('car_crashes')\n",
        "\n",
        "def plot_line(df, x_col, y_cols, title='', xlabel='', ylabel='', legend_title=''):\n",
        "    \"\"\"\n",
        "    Creates a line plot with multiple lines using the specified x and y columns from a pandas DataFrame.\n",
        "\n",
        "    Parameters:\n",
        "    df (pandas.DataFrame): The DataFrame containing the data.\n",
        "    x_col (str): The name of the column to use for the x-axis.\n",
        "    y_cols (list of str): The names of the columns to use for the y-axis. Each column will be plotted as a separate line.\n",
        "    title (str): The title of the plot.\n",
        "    xlabel (str): The label for the x-axis.\n",
        "    ylabel (str): The label for the y-axis.\n",
        "    legend_title (str): The title of the legend.\n",
        "\n",
        "    Returns:\n",
        "    None.\n",
        "    \"\"\"\n",
        "    plt.figure(figsize=(10, 6))\n",
        "\n",
        "    for col in y_cols:\n",
        "        try:\n",
        "            df[col] = pd.to_numeric(df[col])  # Convert column to numeric type\n",
        "            sns.lineplot(x=x_col, y=col, data=df, label=col)\n",
        "        except ValueError:\n",
        "            print(f\"Could not plot line for column '{col}'. Skipping...\")\n",
        "\n",
        "    plt.title(title)\n",
        "    plt.xlabel(xlabel)\n",
        "    plt.ylabel(ylabel)\n",
        "    plt.legend(title=legend_title)\n",
        "\n",
        "    plt.show()\n",
        "\n",
        "# Load the data\n",
        "df = load_data()\n",
        "\n",
        "# Plot the line chart\n",
        "plot_line(df, x_col='total', y_cols=['speeding', 'alcohol', 'not_distracted'], title='UK Road Safety', xlabel='Total Crashes', ylabel='Number of Crashes', legend_title='Cause of Crashes')\n",
        "\n"
      ]
    }
  ]
}