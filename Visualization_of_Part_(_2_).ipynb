{
  "nbformat": 4,
  "nbformat_minor": 0,
  "metadata": {
    "colab": {
      "provenance": []
    },
    "kernelspec": {
      "name": "python3",
      "display_name": "Python 3"
    },
    "language_info": {
      "name": "python"
    }
  },
  "cells": [
    {
      "cell_type": "code",
      "execution_count": null,
      "metadata": {
        "id": "qZy25b94OLri"
      },
      "outputs": [],
      "source": [
        "import seaborn as sns\n",
        "import matplotlib.pyplot as plt\n",
        "\n",
        "# Load data into a pandas DataFrame\n",
        "mpg = sns.load_dataset('mpg')\n",
        "\n",
        "def plot_scatter(x_col, y_col, data):\n",
        "    \"\"\"\n",
        "    Plots a scatter plot of two columns from a given DataFrame.\n",
        "\n",
        "    Parameters:\n",
        "    x_col (str): The name of the column to plot on the x-axis.\n",
        "    y_col (str): The name of the column to plot on the y-axis.\n",
        "    data (pandas.DataFrame): The DataFrame containing the data.\n",
        "\n",
        "    Returns:\n",
        "    None.\n",
        "    \"\"\"\n",
        "    plt.scatter(data[x_col], data[y_col])\n",
        "    plt.xlabel(x_col)\n",
        "    plt.ylabel(y_col)\n",
        "    plt.title(f\"{x_col} vs {y_col}\")\n",
        "\n",
        "def plot_box(x_col, y_col, data):\n",
        "    \"\"\"\n",
        "    Plots a box plot of two columns from a given DataFrame.\n",
        "\n",
        "    Parameters:\n",
        "    x_col (str): The name of the column to group the data by.\n",
        "    y_col (str): The name of the column to plot.\n",
        "    data (pandas.DataFrame): The DataFrame containing the data.\n",
        "\n",
        "    Returns:\n",
        "    None.\n",
        "    \"\"\"\n",
        "    sns.boxplot(x=x_col, y=y_col, data=data)\n",
        "    plt.xlabel(x_col)\n",
        "    plt.ylabel(y_col)\n",
        "    plt.title(f\"{x_col} vs {y_col}\")\n",
        "\n",
        "# Plot scatter plot of horsepower vs miles per gallon\n",
        "plot_scatter(\"horsepower\", \"mpg\", mpg)\n",
        "plt.show()\n",
        "\n",
        "# Plot box plot of origin vs miles per gallon\n",
        "plot_box(\"origin\", \"mpg\", mpg)\n",
        "plt.show()\n",
        "\n"
      ]
    }
  ]
}